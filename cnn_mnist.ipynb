{
 "cells": [
  {
   "cell_type": "code",
   "execution_count": 1,
   "metadata": {},
   "outputs": [],
   "source": [
    "import numpy\n",
    "import matplotlib.pyplot as plt\n",
    "\n",
    "import torch\n",
    "import torch.nn as nn\n",
    "\n",
    "from torchvision import datasets, transforms"
   ]
  },
  {
   "attachments": {},
   "cell_type": "markdown",
   "metadata": {},
   "source": [
    "### Definindo hiperparâmetros"
   ]
  },
  {
   "attachments": {},
   "cell_type": "markdown",
   "metadata": {},
   "source": [
    "### Importando dataset de treino e teste"
   ]
  },
  {
   "cell_type": "code",
   "execution_count": 21,
   "metadata": {},
   "outputs": [],
   "source": [
    "dir_data = \"~/temp\"\n",
    "\n",
    "train_loader = torch.utils.data.DataLoader(\n",
    "    datasets.FashionMNIST(\n",
    "        dir_data,\n",
    "        train=True,\n",
    "        download=True,\n",
    "        transform=transforms.Compose(            \n",
    "            [transforms.ToTensor()]\n",
    "        ),\n",
    "    ),\n",
    "    batch_size=Nb,\n",
    "    shuffle=True,\n",
    ")\n",
    "\n",
    "test_loader = torch.utils.data.DataLoader(\n",
    "    datasets.FashionMNIST(\n",
    "        dir_data,\n",
    "        train=False,\n",
    "        transform=transforms.Compose(            \n",
    "            [transforms.ToTensor()]\n",
    "        ),\n",
    "    ),\n",
    "    batch_size=Nb_test,\n",
    "    shuffle=True,\n",
    ")"
   ]
  },
  {
   "attachments": {},
   "cell_type": "markdown",
   "metadata": {},
   "source": [
    "### Visualizando 6 primeiros exemplos do dataset"
   ]
  },
  {
   "cell_type": "code",
   "execution_count": 22,
   "metadata": {},
   "outputs": [
    {
     "data": {
      "image/png": "[encoded data removed]",
      "text/plain": [
       "<Figure size 1600x600 with 10 Axes>"
      ]
     },
     "metadata": {},
     "output_type": "display_data"
    }
   ],
   "source": [
    "plt.figure(figsize=(16, 6))\n",
    "for i in range(10):\n",
    "    plt.subplot(2, 5, i + 1)\n",
    "    image, _ = train_loader.dataset.__getitem__(i)\n",
    "    plt.imshow(image.squeeze().numpy())\n",
    "    plt.axis('off');"
   ]
  },
  {
   "attachments": {},
   "cell_type": "markdown",
   "metadata": {},
   "source": [
    "### Definindo o modelo"
   ]
  },
  {
   "cell_type": "code",
   "execution_count": 86,
   "metadata": {},
   "outputs": [],
   "source": [
    "# Ajuste de hiperparâmetros\n",
    "\n",
    "# passo de adaptação\n",
    "eta = 0.001\n",
    "\n",
    "# Tamanho do mini-batch\n",
    "Nb = 64\n",
    "\n",
    "# Tamanho do mini-batch usado no teste\n",
    "Nb_test = 1000\n",
    "\n",
    "# Número de épocas\n",
    "Ne = 5"
   ]
  },
  {
   "cell_type": "code",
   "execution_count": 87,
   "metadata": {},
   "outputs": [],
   "source": [
    "class Model(nn.Module):\n",
    "    def __init__(self):\n",
    "        # Necessário chamar __init__() da classe mãe\n",
    "        super().__init__()\n",
    "        \n",
    "        # Camada convolucional, seguida de ReLU e Pooling\n",
    "        # Entra uma imagem 28x28. Com filtro 5x5, padding de 2\n",
    "        # e stride 1, a saída também tem 28x28. Após o pooling,\n",
    "        # a saída fica com 14x14. A entrada tem 1 canal e a\n",
    "        # saída tem 16.\n",
    "        self.conv1 = nn.Sequential(         \n",
    "            nn.Conv2d(\n",
    "                in_channels=1,              \n",
    "                out_channels=32,            \n",
    "                kernel_size=5,              \n",
    "                stride=1,                   \n",
    "                padding=2,                  \n",
    "            ),                              \n",
    "            nn.ReLU(),                      \n",
    "            nn.MaxPool2d(kernel_size=2),    \n",
    "        )\n",
    "        \n",
    "        # Camada convolucional\n",
    "        # Entrada 14x14, saída 7x7 após o pooling.\n",
    "        # 16 canais de entrada e 32 de saída.\n",
    "        self.conv2 = nn.Sequential(         \n",
    "            nn.Conv2d(32, 64, 5, 1, 2),     \n",
    "            nn.ReLU(),                      \n",
    "            nn.MaxPool2d(2),                \n",
    "        )\n",
    "        \n",
    "        # Camada totalmente conectada\n",
    "        # Na entrada, há 32 canais de 7x7 elementos\n",
    "        # e a saída tem 10 neurônios.\n",
    "        self.layer1 = nn.Linear(64 * 7 * 7, 360)\n",
    "        self.drop = nn.Dropout(p = 0.25)\n",
    "        self.layer2 = nn.Linear(360, 120)\n",
    "        self.out = nn.Linear(120, 10)\n",
    "        \n",
    "    def forward(self, x):\n",
    "        # Aplica primeira camada convolucional\n",
    "        x = self.conv1(x)\n",
    "        \n",
    "        # Aplica segunda camada convolucional\n",
    "        x = self.conv2(x)        \n",
    "        \n",
    "        # Transforma os tensores 32x7x7 em\n",
    "        # vetores para serem usados na entrada da\n",
    "        # camada totalmente conectada. Vale notar\n",
    "        # que a primeira dimensão dos tensores de\n",
    "        # dados é usada para representar os diversos\n",
    "        # elementos de um batch, por isso permanece\n",
    "        # inalterada.\n",
    "        x = x.view(x.size(0), -1)       \n",
    "        \n",
    "        x = self.layer1(x)\n",
    "        x = self.drop(x)\n",
    "        x = self.layer2(x)\n",
    "        # Calcula a saída e retorna\n",
    "        output = self.out(x)\n",
    "        return output"
   ]
  },
  {
   "attachments": {},
   "cell_type": "markdown",
   "metadata": {},
   "source": [
    "### Inicializando o modelo, definindo a função custo e o otimizador"
   ]
  },
  {
   "cell_type": "code",
   "execution_count": 88,
   "metadata": {},
   "outputs": [],
   "source": [
    "device = torch.device(\"cuda:0\" if torch.cuda.is_available() else \"cpu\")\n",
    "\n",
    "# Instanciando modelo\n",
    "model = Model().to(device)\n",
    "\n",
    "# Função custo para treinamento\n",
    "loss_function = nn.CrossEntropyLoss()\n",
    "\n",
    "# Otimizador\n",
    "optimizer = torch.optim.Adam(model.parameters(), lr = eta)   "
   ]
  },
  {
   "cell_type": "code",
   "execution_count": 89,
   "metadata": {},
   "outputs": [
    {
     "name": "stdout",
     "output_type": "stream",
     "text": [
      "Época: 0 [0/60000 (0%)]\tLoss: 2.307333\n",
      "Época: 0 [6400/60000 (11%)]\tLoss: 0.459994\n",
      "Época: 0 [12800/60000 (21%)]\tLoss: 0.550762\n",
      "Época: 0 [19200/60000 (32%)]\tLoss: 0.439950\n",
      "Época: 0 [25600/60000 (43%)]\tLoss: 0.462491\n",
      "Época: 0 [32000/60000 (53%)]\tLoss: 0.214652\n",
      "Época: 0 [38400/60000 (64%)]\tLoss: 0.417558\n",
      "Época: 0 [44800/60000 (75%)]\tLoss: 0.423515\n",
      "Época: 0 [51200/60000 (85%)]\tLoss: 0.366075\n",
      "Época: 0 [57600/60000 (96%)]\tLoss: 0.279140\n",
      "Época: 1 [0/60000 (0%)]\tLoss: 0.476217\n",
      "Época: 1 [6400/60000 (11%)]\tLoss: 0.211978\n",
      "Época: 1 [12800/60000 (21%)]\tLoss: 0.221612\n",
      "Época: 1 [19200/60000 (32%)]\tLoss: 0.243582\n",
      "Época: 1 [25600/60000 (43%)]\tLoss: 0.299664\n",
      "Época: 1 [32000/60000 (53%)]\tLoss: 0.198373\n",
      "Época: 1 [38400/60000 (64%)]\tLoss: 0.226275\n",
      "Época: 1 [44800/60000 (75%)]\tLoss: 0.468553\n",
      "Época: 1 [51200/60000 (85%)]\tLoss: 0.219627\n",
      "Época: 1 [57600/60000 (96%)]\tLoss: 0.424406\n",
      "Época: 2 [0/60000 (0%)]\tLoss: 0.141143\n",
      "Época: 2 [6400/60000 (11%)]\tLoss: 0.321760\n",
      "Época: 2 [12800/60000 (21%)]\tLoss: 0.125671\n",
      "Época: 2 [19200/60000 (32%)]\tLoss: 0.213192\n",
      "Época: 2 [25600/60000 (43%)]\tLoss: 0.184742\n",
      "Época: 2 [32000/60000 (53%)]\tLoss: 0.274526\n",
      "Época: 2 [38400/60000 (64%)]\tLoss: 0.329456\n",
      "Época: 2 [44800/60000 (75%)]\tLoss: 0.145245\n",
      "Época: 2 [51200/60000 (85%)]\tLoss: 0.198858\n",
      "Época: 2 [57600/60000 (96%)]\tLoss: 0.236299\n",
      "Época: 3 [0/60000 (0%)]\tLoss: 0.284925\n",
      "Época: 3 [6400/60000 (11%)]\tLoss: 0.318417\n",
      "Época: 3 [12800/60000 (21%)]\tLoss: 0.091710\n",
      "Época: 3 [19200/60000 (32%)]\tLoss: 0.221238\n",
      "Época: 3 [25600/60000 (43%)]\tLoss: 0.155724\n",
      "Época: 3 [32000/60000 (53%)]\tLoss: 0.140659\n",
      "Época: 3 [38400/60000 (64%)]\tLoss: 0.169800\n",
      "Época: 3 [44800/60000 (75%)]\tLoss: 0.262219\n",
      "Época: 3 [51200/60000 (85%)]\tLoss: 0.147391\n",
      "Época: 3 [57600/60000 (96%)]\tLoss: 0.294004\n",
      "Época: 4 [0/60000 (0%)]\tLoss: 0.392273\n",
      "Época: 4 [6400/60000 (11%)]\tLoss: 0.183806\n",
      "Época: 4 [12800/60000 (21%)]\tLoss: 0.404750\n",
      "Época: 4 [19200/60000 (32%)]\tLoss: 0.158446\n",
      "Época: 4 [25600/60000 (43%)]\tLoss: 0.110323\n",
      "Época: 4 [32000/60000 (53%)]\tLoss: 0.168459\n",
      "Época: 4 [38400/60000 (64%)]\tLoss: 0.103816\n",
      "Época: 4 [44800/60000 (75%)]\tLoss: 0.052826\n",
      "Época: 4 [51200/60000 (85%)]\tLoss: 0.224933\n",
      "Época: 4 [57600/60000 (96%)]\tLoss: 0.159992\n"
     ]
    },
    {
     "data": {
      "text/plain": [
       "Text(0, 0.5, 'Loss')"
      ]
     },
     "execution_count": 89,
     "metadata": {},
     "output_type": "execute_result"
    },
    {
     "data": {
      "image/png": "[encoded data removed]",
      "text/plain": [
       "<Figure size 640x480 with 1 Axes>"
      ]
     },
     "metadata": {},
     "output_type": "display_data"
    }
   ],
   "source": [
    "# Lista usada para guardar o valor da função custo ao longo das iterações\n",
    "losses = []\n",
    "\n",
    "# Loop das épocas\n",
    "for epoch in range(Ne):\n",
    "    # Loop dos mini batches\n",
    "    for n, (X, d) in enumerate(train_loader):\n",
    "        # Envia os dados para a GPU, caso ela exista\n",
    "        X = X.to(device=device)\n",
    "        d = d.to(device=device)\n",
    "\n",
    "        # Ajuste de dimensões\n",
    "        # (elementos do mini batch x 1 canal x 28 x 28)\n",
    "        X = X.view(-1, 1, 28, 28)\n",
    "\n",
    "        # Coloca o modelo em modo treinamento\n",
    "        model.train()\n",
    "\n",
    "        # Zera informações de gradientes\n",
    "        model.zero_grad()\n",
    "\n",
    "        # Calcula a saída\n",
    "        y = model(X)\n",
    "\n",
    "        # Calcula o valor da função custo\n",
    "        loss = loss_function(y, d)\n",
    "\n",
    "        # Calcula os gradientes\n",
    "        loss.backward()\n",
    "\n",
    "        # Atualiza os pesos do modelo\n",
    "        optimizer.step()\n",
    "\n",
    "        # Armazena o valor da função custo\n",
    "        losses.append(loss.item())\n",
    "\n",
    "        # Mostra o valor da função custo a cada 100 iterações\n",
    "        if n % 100 == 0:\n",
    "            N_all = len(train_loader.dataset)\n",
    "            n_ex = n * len(X)\n",
    "            p = 100. * n / len(train_loader)\n",
    "            print(\n",
    "                f\"Época: {epoch} [{n_ex}/{N_all} ({p:.0f}%)]\\tLoss: {loss:.6f}\"\n",
    "            )            \n",
    "\n",
    "plt.figure()\n",
    "plt.plot(losses)\n",
    "plt.xlabel(\"Batch\")\n",
    "plt.ylabel(\"Loss\")"
   ]
  },
  {
   "cell_type": "code",
   "execution_count": 90,
   "metadata": {},
   "outputs": [
    {
     "name": "stdout",
     "output_type": "stream",
     "text": [
      "Acurácia: 9049/10000 (90%)\n"
     ]
    }
   ],
   "source": [
    "# Variável usada para contabilizar o número de acertos\n",
    "correct = 0\n",
    "\n",
    "# Loop dos mini batches\n",
    "for n, (X, d) in enumerate(test_loader):\n",
    "    # Envia os dados para a GPU, caso ela exista\n",
    "    X = X.to(device=device)\n",
    "    d = d.to(device=device)\n",
    "\n",
    "    # Ajuste de dimensões\n",
    "    X = X.view(-1, 1, 28, 28)\n",
    "\n",
    "    # Coloca o modelo em modo de inferência\n",
    "    model.eval()\n",
    "\n",
    "    # Calcula a saída\n",
    "    y = model(X)\n",
    "\n",
    "    # Cálculo do número de acertos:\n",
    "    # 1) Obtém o índice do elemento máximo para cada exemplo do minibatch\n",
    "    pred = torch.max(y, 1, keepdim=True)[1]     \n",
    "    # 2) Conta o número de acertos e acumula na variável correct\n",
    "    # pred.eq(d.view_as(pred)) é um tensor booleano. Dessa forma, o número de\n",
    "    # acertos é obtido somando seus elementos. Valores True são tratados como 1. \n",
    "    correct += pred.eq(d.view_as(pred)).cpu().sum().item()\n",
    "\n",
    "# Mostra o desempenho obtido no teste    \n",
    "accuracy = 100. * correct / len(test_loader.dataset)\n",
    "print(f\"Acurácia: {correct}/{len(test_loader.dataset)} ({accuracy:.0f}%)\")"
   ]
  },
  {
   "cell_type": "code",
   "execution_count": null,
   "metadata": {},
   "outputs": [],
   "source": []
  }
 ],
 "metadata": {
  "kernelspec": {
   "display_name": "sis-int",
   "language": "python",
   "name": "python3"
  },
  "language_info": {
   "codemirror_mode": {
    "name": "ipython",
    "version": 3
   },
   "file_extension": ".py",
   "mimetype": "text/x-python",
   "name": "python",
   "nbconvert_exporter": "python",
   "pygments_lexer": "ipython3",
   "version": "3.11.1"
  },
  "orig_nbformat": 4
 },
 "nbformat": 4,
 "nbformat_minor": 2
}
